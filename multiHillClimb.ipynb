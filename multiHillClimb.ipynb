{
 "cells": [
  {
   "cell_type": "markdown",
   "metadata": {
    "colab_type": "text",
    "id": "-HS7g-4Tol3E"
   },
   "source": [
    "University of Stirling<br>\n",
    "Computing Science and Mathematics<br>\n",
    "#### CSCU9YE - Artificial Intelligence<p>   \n",
    "## Assignment: Organising a Colour Palette \n",
    "\n",
    "Group 4: 2615649, 2622287, 2613922"
   ]
  },
  {
   "cell_type": "markdown",
   "metadata": {},
   "source": [
    "### Reading the data file "
   ]
  },
  {
   "cell_type": "code",
   "execution_count": 16,
   "metadata": {
    "colab": {},
    "colab_type": "code",
    "id": "KhOt_WBFol3G"
   },
   "outputs": [],
   "source": [
    "import numpy as np      # Numerical library, used keeing the list of colours and computing the Euclidean distance\n",
    "\n",
    "# Read in the color data file \n",
    "# Input: string with file name\n",
    "# Oputput: the number of colours (integer), and a list numpy arrays with all the colours\n",
    "def read_data(fname):\n",
    "    cols = np.loadtxt(fname, skiprows = 4) # The first 4 lines have text information, and are ignored     \n",
    "    ncols = len(cols)     # Total number of colours and list of colours\n",
    "    return ncols,cols"
   ]
  },
  {
   "cell_type": "code",
   "execution_count": 17,
   "metadata": {},
   "outputs": [
    {
     "name": "stdout",
     "output_type": "stream",
     "text": [
      "Number of colours: 496\n",
      "First 5 colours:\n",
      "[[0.96645354 0.4407326  0.00749147]\n",
      " [0.91097596 0.939269   0.58222757]\n",
      " [0.67156348 0.08393823 0.76648093]\n",
      " [0.23680978 0.03081402 0.78877272]\n",
      " [0.34608897 0.62328148 0.6158157 ]]\n"
     ]
    }
   ],
   "source": [
    "ncolors, colors = read_data(\"col500.txt\")\n",
    "\n",
    "print(f'Number of colours: {ncolors}')\n",
    "print(\"First 5 colours:\")\n",
    "print(colors[0:5,  :])"
   ]
  },
  {
   "cell_type": "markdown",
   "metadata": {
    "colab_type": "text",
    "id": "L8ZvdCK7ol3O"
   },
   "source": [
    "### Plotting a sequence of colours\n",
    "\n",
    "The function <b>plot_colors()</b> displaysthe colours from the color list *col_list* the order given by the *col_order* list. \n",
    "\n",
    "*col_list* and *col_order* need to be of the same length. The *ratio* parameter indicates height/width proportion of each bar of colour in the plot."
   ]
  },
  {
   "cell_type": "code",
   "execution_count": 18,
   "metadata": {
    "colab": {},
    "colab_type": "code",
    "id": "-devp9PBol3P"
   },
   "outputs": [],
   "source": [
    "import matplotlib.pyplot as plt\n",
    "\n",
    "# Dsiplay the colors as a strip of color bars\n",
    "# Input: list of colors, order of colors, and height/ratio\n",
    "\n",
    "def plot_colors(col_list, col_order, ratio = 10): \n",
    "    assert len(col_list) == len(col_order)\n",
    "    img = np.zeros((ratio, len(col_list), 3))\n",
    "    for i in range(0, len(col_list)):\n",
    "        img[:, i, :] = col_list[col_order[i]]\n",
    "    fig, axes = plt.subplots(1, figsize=(10,6)) # figsize=(width,height) handles window dimensions\n",
    "    axes.imshow(img, interpolation='nearest')\n",
    "    axes.axis('off')\n",
    "    plt.show()"
   ]
  },
  {
   "cell_type": "markdown",
   "metadata": {
    "colab_type": "text",
    "id": "_sesVP5bol3U"
   },
   "source": [
    "### Examples of ploting a colour ordering\n",
    "\n",
    "Let us see how to call the plot function, using the original order in which the colours appear in the data file, and another randomised order."
   ]
  },
  {
   "cell_type": "code",
   "execution_count": 19,
   "metadata": {
    "colab": {},
    "colab_type": "code",
    "id": "xnxRAdZ5ol3V",
    "outputId": "fe8aeb34-44be-4e44-9b1f-c7c1d11970cb"
   },
   "outputs": [
    {
     "data": {
      "image/png": "[encoded data removed]",
      "text/plain": [
       "<Figure size 720x432 with 1 Axes>"
      ]
     },
     "metadata": {
      "needs_background": "light"
     },
     "output_type": "display_data"
    },
    {
     "name": "stdout",
     "output_type": "stream",
     "text": [
      "Same ordering of colurs with a larger ratio\n"
     ]
    },
    {
     "data": {
      "image/png": "[encoded data removed]",
      "text/plain": [
       "<Figure size 720x432 with 1 Axes>"
      ]
     },
     "metadata": {
      "needs_background": "light"
     },
     "output_type": "display_data"
    }
   ],
   "source": [
    "import random as rnd\n",
    "\n",
    "# Plot all the colors in the order they are listd in the file\n",
    "order1 = list(range(ncolors))   # list of consequtive numbers from 0 to ncolors\n",
    "plot_colors(colors, order1)    #  You will notice that colors are not ordered in the file\n",
    "\n",
    "# Function to generate a random solution (random ordering)  - we can generate a random ordering of the list by using\n",
    "# the shuffle function from the random library\n",
    "def random_sol(ncolors):\n",
    "    sol = list(range(ncolors))  # list of consecutive numbers from 0 to ncolors\n",
    "    # Shuffle the elements in the list randomly. Shuffles in place and does not return a value\n",
    "    rnd.shuffle(sol)\n",
    "    return sol\n",
    "\n",
    "# You can test different ratios of the hight/width of the lines in the plot\n",
    "print(\"Same ordering of colurs with a larger ratio\")\n",
    "plot_colors(colors, order1, 20)"
   ]
  },
  {
   "cell_type": "markdown",
   "metadata": {},
   "source": [
    "### Evaluation function to determine the quality of a given ordering of colours\n",
    "\n",
    "When solving the problem using optimisation heuristics, we need an evaluation function to measure the quality of a sulution. The problem is formulated as a minimisation  problem. We want to minimise the pair-wise distance between consequtive colours in the ordering. \n",
    "\n",
    "This function computes the quality of given ordering of colours. The smaller the evaluation function the better, as this is is formulated as a minimisation problem"
   ]
  },
  {
   "cell_type": "code",
   "execution_count": 20,
   "metadata": {},
   "outputs": [],
   "source": [
    "# This is an auxiliary function. It calculate the Euclidean distance between two individual colours\n",
    "# Input: v and u as to be numpy arrays, vectors of real numbers with the RGB coordinates.\n",
    "\n",
    "def euclid(v, u):\n",
    "    return np.linalg.norm(v - u)\n",
    "\n",
    "# Evaluation function.  Measures the quality of a given solution (ordering of colours) \n",
    "# The function computes the sum of the distances between all consecutive colours in the ordering\n",
    "# Input: cols: list of colours \n",
    "#        ordc: ordering of colours\n",
    "# Output: real number with the sumf of pair-wise differences in the colour ordering\n",
    "\n",
    "def evaluate(cols, ordc):     \n",
    "    adjacentColPairs = [[cols[ordc[i]],cols[ordc[i-1]]] for i in range(1,len(ordc))]\n",
    "    return sum([euclid(i[1], i[0]) for i in adjacentColPairs])"
   ]
  },
  {
   "cell_type": "markdown",
   "metadata": {},
   "source": [
    "## Solution implementation\n",
    "\n",
    "We implemented all three mutation methods with the ability to select the desired one by passing in the name to the hc algorithm. We tested the methods and number of iterations using a evaluate_best_method function. \n",
    "\n",
    "#### Swap implementation\n",
    "\n",
    "The first mutation operator we implementated is the random_swap method. This swaps two random positions in the array and returns this swapped array."
   ]
  },
  {
   "cell_type": "code",
   "execution_count": 21,
   "metadata": {},
   "outputs": [],
   "source": [
    "# random swap function. swaps two random positions in the given solution array (ordering of colours)\n",
    "# input: solution: solution, ordering of colours\n",
    "# output: swap_solution, ordering of colours with two random positions swapped\n",
    "def random_swap(solution):\n",
    "    # take copy of the solution passed in\n",
    "    swap_solution = solution[:]\n",
    "\n",
    "    # generate two random positions in the array\n",
    "    ran_position1 = rnd.randint(0, len(swap_solution) - 1)\n",
    "    ran_position2 = rnd.randint(0, len(swap_solution) - 1)\n",
    "\n",
    "    # If random positions are the same then change ran_position2\n",
    "    while ran_position1 == ran_position2:\n",
    "        ran_position2 = rnd.randint(0, len(swap_solution) - 1)\n",
    "\n",
    "    # store positions being swapped in temp variables\n",
    "    swap_val1 = swap_solution[ran_position1]\n",
    "    swap_val2 = swap_solution[ran_position2]\n",
    "\n",
    "    # complete swap by swapping values at the random positions\n",
    "    swap_solution[ran_position1] = swap_val2\n",
    "    swap_solution[ran_position2] = swap_val1\n",
    "\n",
    "    return swap_solution  # return the random swap solution"
   ]
  },
  {
   "cell_type": "markdown",
   "metadata": {},
   "source": [
    "#### Inversion implementation\n",
    "\n",
    "The second mutation operator we implemented is the random_inverse method. This reverses the ordering between two randomly selected points and returns the partially inversed array. "
   ]
  },
  {
   "cell_type": "code",
   "execution_count": 22,
   "metadata": {},
   "outputs": [],
   "source": [
    "# inverse function, inverts values between two positions in given array of colour order\n",
    "# input: solution, ordering of colours\n",
    "# output: inverse_solution, inverted values between two points in array\n",
    "def random_inverse(solution):\n",
    "    # take copy of the solution passed in\n",
    "    inverse_solution = solution[:]\n",
    "\n",
    "    # generate two random positions in the array\n",
    "    ran_position1 = rnd.randint(0, len(inverse_solution) - 1)\n",
    "    ran_position2 = rnd.randint(0, len(inverse_solution) - 1)\n",
    "\n",
    "    # If random positions are the same then change ran_position2\n",
    "    while ran_position1 == ran_position2:\n",
    "        ran_position2 = rnd.randint(0, len(inverse_solution) - 1)\n",
    "\n",
    "    # Order the random positions so ran_position1 is smaller than ran_position2\n",
    "    if ran_position1 > ran_position2:\n",
    "        placeholder = ran_position1\n",
    "        ran_position1 = ran_position2\n",
    "        ran_position2 = placeholder\n",
    "\n",
    "    # Take the section that we want to inverse\n",
    "    inverse_selection = inverse_solution[ran_position1:ran_position2]\n",
    "    # Reverse all the indexes in the section we want to inverse\n",
    "    inverse_selection.reverse()\n",
    "\n",
    "    # Put solution back together\n",
    "    # Get the original section at the start of the solution\n",
    "    section_before_rnd1 = inverse_solution[0:ran_position1]\n",
    "    # Get the section at the end of the solution\n",
    "    section_after_rnd2 = inverse_solution[ran_position2:len(inverse_solution)]\n",
    "    # Add the start section to the solution\n",
    "    inverse_solution = section_before_rnd1\n",
    "    # Add the reversed section to the solution\n",
    "    inverse_solution.extend(inverse_selection)\n",
    "    # Finally add the end section to the solution\n",
    "    inverse_solution.extend(section_after_rnd2)\n",
    "\n",
    "    return inverse_solution"
   ]
  },
  {
   "cell_type": "markdown",
   "metadata": {},
   "source": [
    "#### Scramble implementation\n",
    "\n",
    "The third mutation operator we implemented is the random_scramble method. This randomly scrambles the ordering between two randomly selected points and returns the partially scrambled array. "
   ]
  },
  {
   "cell_type": "code",
   "execution_count": 23,
   "metadata": {},
   "outputs": [],
   "source": [
    "# scramble function, randomly rearranges values between two random points in given array\n",
    "# input: solution, array ordering of colours\n",
    "# output: scramble_solution, array with scrambled values between two points\n",
    "def random_scramble(solution):\n",
    "    # take copy of the solution passed in\n",
    "    scramble_solution = solution[:]\n",
    "\n",
    "    # generate two random positions in the array\n",
    "    ran_position1 = rnd.randint(0, len(scramble_solution) - 1)\n",
    "    ran_position2 = rnd.randint(0, len(scramble_solution) - 1)\n",
    "\n",
    "    # while/if random positions are the same then change ran_position2\n",
    "    while ran_position1 == ran_position2:\n",
    "        ran_position2 = rnd.randint(0, len(scramble_solution) - 1)\n",
    "\n",
    "    # Order the random positions so ran_position1 is smaller than ran_position2\n",
    "    if ran_position1 > ran_position2:\n",
    "        placeholder = ran_position1\n",
    "        ran_position1 = ran_position2\n",
    "        ran_position2 = placeholder\n",
    "    \n",
    "    scramble_section = scramble_solution[ran_position1:ran_position2]# Take the section that we want to scramble\n",
    "    rnd.shuffle(scramble_section)# Shuffle all the indexes in the section we want to scramble\n",
    "\n",
    "    # Put solution back together\n",
    "    section_before_rnd1 = scramble_solution[0:ran_position1] # Get the unscrambled section at the start of the solution\n",
    "    section_after_rnd2 = scramble_solution[ran_position2:len(scramble_solution)]# Get the unscrambled section at the end of the solution\n",
    "    \n",
    "    scramble_solution = section_before_rnd1# Add the start section to the solution\n",
    "    scramble_solution.extend(scramble_section)# Add the scrambled section to the solution\n",
    "    scramble_solution.extend(section_after_rnd2)# Finally add the end section to the solution\n",
    "\n",
    "    return scramble_solution"
   ]
  },
  {
   "cell_type": "markdown",
   "metadata": {},
   "source": [
    "### Hill climbing implementation\n",
    "\n",
    "The hill climbing algorithm generates a random solution and on that solution applies the selected mutation operator for the specified number of hc_iterations. If an improvement is made for the evaluation value then the ordering and value will be stored as the new best. Each time an improvement is made, the value is added to the trace array so we can plot this later. This plot is where the name 'hill climbing' comes from because as the algorithm finds better solutions and plots the evaluation, this should produce a hill in the plot. "
   ]
  },
  {
   "cell_type": "code",
   "execution_count": 24,
   "metadata": {},
   "outputs": [],
   "source": [
    "# hill_climbing function. generates random solution, performs a random swap of two elements in that solution...\n",
    "# ...compares the evaluation of both solutions and stores the best with the lowest evaluation\n",
    "# Input: hc_iterations (the number of iterations to run the random swap check) and permutation method e.g. 'swap', 'inversion', 'scramble'\n",
    "# Output: best_solution, the best solution during hill climbing process\n",
    "#         improvement_trace, storing the distance at every point an improvement has been made\n",
    "def hill_climbing(hc_iterations, method_choice, cols):\n",
    "    hc_improvement_trace = []  # stores distance improvements\n",
    "    # generate a random solution using random_sol\n",
    "    hc_best_solution = random_sol(len(cols))\n",
    "\n",
    "    if method_choice == \"swap\": # if method choice is swap\n",
    "        for i in range(hc_iterations): # for hc iterations do\n",
    "            best_solution_eval = evaluate(cols, hc_best_solution) # evaluate best_solution\n",
    "            ran_swap_solution = random_swap(hc_best_solution) # perform a swap mutation\n",
    "            ran_swap_solution_eval = evaluate(cols, ran_swap_solution) # re evaluate the swapped solution\n",
    "\n",
    "            if ran_swap_solution_eval < best_solution_eval: # if the swapped solytion is better\n",
    "                hc_best_solution = ran_swap_solution[:] # store this as the best\n",
    "                hc_improvement_trace.append(ran_swap_solution_eval) # add the evaluation to the trace\n",
    "\n",
    "    elif method_choice == \"inversion\": # if method choice is inversion\n",
    "        for i in range(hc_iterations): # same as above for inversion\n",
    "            best_solution_eval = evaluate(cols, hc_best_solution)\n",
    "            ran_inverse_solution = random_inverse(hc_best_solution)\n",
    "            ran_inverse_solution_eval = evaluate(cols, ran_inverse_solution)\n",
    "\n",
    "            if ran_inverse_solution_eval < best_solution_eval:\n",
    "                hc_best_solution = ran_inverse_solution[:]\n",
    "                hc_improvement_trace.append(ran_inverse_solution_eval)\n",
    "\n",
    "    elif method_choice == \"scramble\": # if method choice is scramble\n",
    "        for i in range(hc_iterations): # as as above for scramble\n",
    "            best_solution_eval = evaluate(cols, hc_best_solution)\n",
    "            ran_scramble_solution = random_scramble(hc_best_solution)\n",
    "            ran_scramble_solution_eval = evaluate(cols, ran_scramble_solution)\n",
    "\n",
    "            if ran_scramble_solution_eval < best_solution_eval:\n",
    "                hc_best_solution = ran_scramble_solution[:]\n",
    "                hc_improvement_trace.append(ran_scramble_solution_eval)\n",
    "    else: # if none of these were entere give error message\n",
    "        print(\"invalid algorithm\")\n",
    "    return hc_best_solution, hc_improvement_trace"
   ]
  },
  {
   "cell_type": "markdown",
   "metadata": {},
   "source": [
    "### Multi Hill climbing implementation\n",
    "\n",
    "Repeats the hill climbing algorithm for the desired hc iterations and mhc iterations using the method of choice. We discovered that the higher the hc iterations are the better the solution. Higher mhc iterations lead to slight improvements."
   ]
  },
  {
   "cell_type": "code",
   "execution_count": 25,
   "metadata": {},
   "outputs": [],
   "source": [
    "#multi hill climbing function. runs hill climbing for passed in iterations. \n",
    "#Inputs: mhc_iterations, the number of iterations to repeat the hill climbing method\n",
    "#        hc iterations, the number of iterations to run in the hill climb method. aka the number of different colour orderes to try\n",
    "#        method_choice, the mutation method being swap, inversion or scramble\n",
    "#        cols, the list of colours from the selected file\n",
    "#Output: mhc_best_solution, the colours ordering with the best evaluation value\n",
    "def multi_hill_climbing(mhc_iterations, hc_iterations, method_choice, cols):\n",
    "    mhc_best_solution_eval = 1000  # number larger than any possible distance\n",
    "\n",
    "    for i in range(mhc_iterations):  # for mhc repetitions do...\n",
    "\n",
    "        current_solution, hc_improve_trace = hill_climbing(hc_iterations, method_choice, cols)  # call hill climbing function for given iterations and method\n",
    "        current_solution_eval = evaluate(cols, current_solution)  # evaluate the given solution\n",
    "\n",
    "        if current_solution_eval < mhc_best_solution_eval:  # if new solution is better than the currnet best solution then\n",
    "            mhc_best_solution = current_solution  # store the current solution as the best solution\n",
    "            mhc_best_solution_eval = current_solution_eval  # store the current evaluation value as the best value\n",
    "\n",
    "    return mhc_best_solution"
   ]
  },
  {
   "cell_type": "markdown",
   "metadata": {},
   "source": [
    "### Evaluate best mutation operator function\n",
    "\n",
    "This function tests each mutation method, swap, inversion and scramble at specified increments and produces a plot comparing the results. The results are discussed in further details later but in summary inversion gives the best appearance and evaluation and the more iterations the better"
   ]
  },
  {
   "cell_type": "code",
   "execution_count": 26,
   "metadata": {},
   "outputs": [],
   "source": [
    "# evaluate bext method function\n",
    "# tests each hill climb 'mutation operator' swap, inversion and scramble\n",
    "# e.g. with iterations 5000, 10000, 15000, 20000, 25000, 30000 to find optimal number.\n",
    "# produces a plot for each method and iteration combination\n",
    "# inputs: cols, list of colours\n",
    "#         ncols, number of colours\n",
    "#         increments, increase in itertaions per cycle(larger files should use larger increments)\n",
    "\n",
    "def evaluate_best_method(cols, ncols, increments):\n",
    "\n",
    "    print('Generating mutation method/iteration results ', ncols, ' ...')\n",
    "    test_iterations = 0 # initialise variable to store number of iterations\n",
    "    swap_trace = [] # initialise a trace for each method\n",
    "    inversion_trace = []\n",
    "    scramble_trace = []\n",
    "    best_sol_hc_swap = 0\n",
    "    best_sol_hc_inversion = 0\n",
    "    scramble = 0\n",
    "\n",
    "    for i in range(6): # for 6 times do ... (6 chosen to test a reasonable range of iterations 5000-30,000 or 10,000-60,000)\n",
    "        test_iterations += increments # increase number of iterations by 5000\n",
    "        best_sol_hc_swap, imp_trace_swap = hill_climbing(test_iterations, \"swap\", cols) # run swap method\n",
    "        swap_evaluation = evaluate(cols, best_sol_hc_swap) # evaluate best solution returned\n",
    "        swap_trace.append(swap_evaluation) # add the evaluation value to the trace\n",
    "\n",
    "        # same as swap method but for inversion\n",
    "        best_sol_hc_inversion, imp_trace_inversion = hill_climbing(test_iterations, \"inversion\", cols)\n",
    "        inversion_evaluation = evaluate(cols, best_sol_hc_inversion)\n",
    "        inversion_trace.append(inversion_evaluation)\n",
    "\n",
    "        # same as swap method but for scramble\n",
    "        best_sol_hc_scramble, imp_trace_scramble = hill_climbing(test_iterations, \"scramble\", cols)\n",
    "        scramble_evaluation = evaluate(cols, best_sol_hc_scramble)\n",
    "        scramble_trace.append(scramble_evaluation)\n",
    "\n",
    "    # plot trace for swap method\n",
    "    plt.figure()\n",
    "    plt.suptitle('HC Testing Iterations and mutation methods')\n",
    "    plt.plot(swap_trace, color='red',label='Swap') # plot swap trace in red\n",
    "    plt.plot(inversion_trace, color='blue',label='Inversion') # plot inversion trace in blue\n",
    "    plt.plot(scramble_trace, color='green',label='Scramble') # plot scramble trace in green\n",
    "    plt.ylabel(\"Distance Value\")\n",
    "    plt.xlabel(\"Iteration\")\n",
    "    plt.legend()\n",
    "    plt.show()\n",
    "\n",
    "    plot_colors(cols, best_sol_hc_swap, 20) #plot the colour ordering\n",
    "    print(f'^best swap {ncols}: {evaluate(cols, best_sol_hc_swap)}')  # Display best swap inversion evaluation value\n",
    "    plot_colors(cols, best_sol_hc_inversion, 20) #plot the colour ordering\n",
    "    print(f'^best inversion {ncols}: {evaluate(cols, best_sol_hc_inversion)}\\n')  # Display best inversion evaluation value\n",
    "    plot_colors(cols, best_sol_hc_scramble, 20) #plot the colour ordering\n",
    "    print(f'^best scramble solution {ncols}: {evaluate(cols, best_sol_hc_scramble)}\\n')  # Displaying  best scramble evaluation value"
   ]
  },
  {
   "cell_type": "markdown",
   "metadata": {},
   "source": [
    "### Evaluating the quality of given solutions and ploting orderings\n",
    "\n",
    "Evaluating hill climbing and multi hill climbing solutions for both 100 colour and 500 colour files\n",
    "\n",
    "For the 100 colour file using inversion, there is rapid improvement until around 10,000 iterations and slower improvements after that with little improvements being made past this point\n",
    "\n",
    "For the 500 colour file using inversion, there is rapid improvement until around 30,000 iterations and slower steady improvements improvements after this point."
   ]
  },
  {
   "cell_type": "code",
   "execution_count": 30,
   "metadata": {},
   "outputs": [
    {
     "name": "stdout",
     "output_type": "stream",
     "text": [
      "Number of colours 100: 96\n",
      "First 5 colours of 100:\n",
      "[[0.96645354 0.4407326  0.00749147]\n",
      " [0.91097596 0.939269   0.58222757]\n",
      " [0.67156348 0.08393823 0.76648093]\n",
      " [0.23680978 0.03081402 0.78877272]\n",
      " [0.34608897 0.62328148 0.6158157 ]]\n",
      "\n",
      "Unordered solution 100...\n"
     ]
    },
    {
     "data": {
      "image/png": "[encoded data removed]",
      "text/plain": [
       "<Figure size 720x432 with 1 Axes>"
      ]
     },
     "metadata": {
      "needs_background": "light"
     },
     "output_type": "display_data"
    },
    {
     "name": "stdout",
     "output_type": "stream",
     "text": [
      "^Evaluation of unordered 100: 62.28133261068915\n",
      " Evaluation of unordered 100: 62.2813\n",
      "\n",
      "Generating hill climb 100 solution...\n"
     ]
    },
    {
     "data": {
      "image/png": "[encoded data removed]",
      "text/plain": [
       "<Figure size 720x432 with 1 Axes>"
      ]
     },
     "metadata": {
      "needs_background": "light"
     },
     "output_type": "display_data"
    },
    {
     "name": "stdout",
     "output_type": "stream",
     "text": [
      "^Evaluation of order hc 100: 17.283121651271177\n",
      " Evaluation of order hc 100: 17.2831\n",
      "\n",
      "Generating multi hill climb 100 solution...\n"
     ]
    },
    {
     "data": {
      "image/png": "[encoded data removed]",
      "text/plain": [
       "<Figure size 720x432 with 1 Axes>"
      ]
     },
     "metadata": {
      "needs_background": "light"
     },
     "output_type": "display_data"
    },
    {
     "name": "stdout",
     "output_type": "stream",
     "text": [
      "^Evaluation of order mhc 100: 16.54599117091713\n",
      " Evaluation of order mhc 100: 16.546\n",
      "\n",
      "mhc_100: [12, 33, 14, 40, 76, 68, 29, 67, 52, 38, 77, 16, 34, 42, 71, 41, 11, 95, 81, 93, 19, 66, 48, 22, 74, 49, 23, 55, 39, 27, 62, 1, 88, 65, 87, 90, 30, 45, 7, 20, 13, 59, 83, 92, 32, 17, 5, 56, 25, 36, 53, 70, 10, 58, 75, 79, 8, 2, 82, 15, 3, 73, 64, 89, 63, 6, 80, 60, 43, 37, 84, 94, 78, 50, 28, 57, 9, 4, 61, 85, 21, 26, 86, 69, 47, 91, 54, 31, 0, 72, 24, 18, 46, 51, 35, 44]\n",
      "\n",
      "Unordered solution 500...\n"
     ]
    },
    {
     "data": {
      "image/png": "[encoded data removed]",
      "text/plain": [
       "<Figure size 720x432 with 1 Axes>"
      ]
     },
     "metadata": {
      "needs_background": "light"
     },
     "output_type": "display_data"
    },
    {
     "name": "stdout",
     "output_type": "stream",
     "text": [
      "^Evaluation of unordered 500: 325.1667419062415\n",
      " Evaluation of unordered 500: 325.1667\n",
      "\n",
      "Generating hill climb 500 solution...\n"
     ]
    },
    {
     "data": {
      "image/png": "[encoded data removed]",
      "text/plain": [
       "<Figure size 720x432 with 1 Axes>"
      ]
     },
     "metadata": {
      "needs_background": "light"
     },
     "output_type": "display_data"
    },
    {
     "name": "stdout",
     "output_type": "stream",
     "text": [
      "^Evaluation of order hc 500: 64.72343734778215\n",
      " Evaluation of order hc 500: 64.7234\n",
      "\n",
      "Generating multi hill climb 500 solution...\n"
     ]
    },
    {
     "data": {
      "image/png": "[encoded data removed]",
      "text/plain": [
       "<Figure size 720x432 with 1 Axes>"
      ]
     },
     "metadata": {
      "needs_background": "light"
     },
     "output_type": "display_data"
    },
    {
     "name": "stdout",
     "output_type": "stream",
     "text": [
      "^Evaluation of order mhc 500: 65.71937296713429\n",
      " Evaluation of order mhc 500: 65.7194\n",
      "\n",
      "mhc_500: [192, 396, 117, 197, 490, 276, 480, 478, 384, 19, 115, 286, 93, 103, 81, 411, 300, 257, 275, 248, 95, 482, 243, 400, 278, 201, 434, 317, 189, 415, 52, 321, 301, 122, 421, 429, 235, 219, 16, 77, 175, 113, 289, 86, 265, 71, 157, 181, 450, 446, 100, 401, 104, 41, 162, 299, 34, 302, 138, 404, 399, 344, 154, 350, 445, 142, 131, 88, 405, 283, 38, 26, 112, 69, 361, 178, 493, 135, 379, 259, 21, 342, 352, 76, 125, 188, 378, 110, 194, 256, 337, 348, 14, 96, 307, 177, 119, 414, 91, 389, 116, 282, 185, 42, 312, 170, 310, 412, 397, 288, 252, 290, 254, 237, 173, 328, 99, 205, 54, 473, 31, 98, 363, 0, 423, 294, 24, 72, 376, 444, 255, 51, 18, 358, 137, 35, 410, 245, 44, 442, 172, 332, 141, 46, 209, 388, 156, 471, 242, 333, 427, 491, 196, 370, 79, 443, 298, 108, 11, 66, 23, 49, 180, 74, 495, 250, 27, 62, 163, 293, 241, 409, 176, 390, 61, 140, 145, 149, 339, 198, 223, 475, 146, 84, 367, 169, 398, 273, 130, 488, 311, 303, 382, 128, 330, 461, 106, 166, 260, 55, 39, 111, 22, 402, 48, 144, 233, 438, 425, 251, 199, 355, 469, 2, 211, 454, 447, 320, 8, 426, 406, 164, 240, 457, 297, 306, 334, 351, 83, 374, 270, 208, 224, 477, 466, 365, 253, 319, 456, 148, 343, 5, 430, 56, 357, 222, 159, 25, 258, 416, 435, 264, 195, 460, 220, 453, 338, 70, 470, 187, 455, 440, 329, 217, 239, 147, 336, 206, 167, 392, 479, 268, 32, 17, 92, 102, 3, 468, 246, 331, 218, 441, 315, 73, 64, 266, 136, 168, 403, 6, 354, 80, 305, 114, 422, 60, 236, 371, 232, 326, 394, 193, 323, 381, 204, 483, 417, 186, 494, 226, 78, 373, 244, 369, 210, 485, 216, 419, 393, 7, 284, 200, 161, 20, 53, 155, 462, 171, 314, 12, 449, 165, 420, 174, 129, 67, 29, 132, 322, 428, 349, 484, 262, 291, 33, 36, 316, 13, 215, 341, 274, 287, 324, 89, 407, 203, 347, 126, 308, 153, 327, 318, 247, 15, 82, 356, 230, 127, 134, 109, 452, 63, 179, 362, 346, 380, 121, 263, 57, 295, 207, 101, 391, 292, 160, 313, 9, 85, 4, 28, 37, 50, 191, 366, 387, 472, 372, 285, 463, 151, 385, 212, 309, 465, 94, 269, 214, 271, 418, 75, 105, 464, 10, 325, 158, 183, 433, 345, 133, 58, 139, 353, 213, 59, 439, 231, 458, 487, 123, 40, 152, 360, 277, 431, 304, 436, 249, 489, 234, 474, 467, 190, 368, 395, 424, 47, 124, 432, 476, 68, 267, 238, 340, 228, 182, 221, 377, 437, 1, 359, 202, 143, 65, 481, 296, 229, 279, 87, 118, 375, 97, 261, 386, 335, 45, 272, 364, 281, 413, 184, 280, 30, 459, 383, 486, 43, 225, 150, 227, 492, 408, 451, 120, 107, 448, 90]\n"
     ]
    }
   ],
   "source": [
    "ncolors100, colors100 = read_data(\"col100.txt\")  # pass in 100 colour file to reading function\n",
    "ncolors500, colors500 = read_data(\"col500.txt\")  # pass in 500 colour file file to reading function\n",
    "\n",
    "print(f'Number of colours 100: {ncolors100}')\n",
    "print(\"First 5 colours of 100:\")\n",
    "print(colors100[0:5, :])  # prints rgb values for first five colours\n",
    "\n",
    "# Plot all the colors in the order they are listed in the file\n",
    "order100 = list(range(ncolors100))  # list of consecutive numbers from 0 to ncolors\n",
    "print('\\nUnordered solution 100...')\n",
    "plot_colors(colors100, order100, 20)  # You will notice that colors are not ordered in the file\n",
    "unordered_100_eval = evaluate(colors100, order100)\n",
    "print(f'^Evaluation of unordered 100: {unordered_100_eval}')  # Displaying all decimals\n",
    "print(f' Evaluation of unordered 100: {np.round(unordered_100_eval, 4)}')  # rounding to display only 4 decimals. This is better for display\n",
    "\n",
    "print('\\nGenerating hill climb 100 solution...')\n",
    "hc_100, imp_trace100 = hill_climbing(20000, \"inversion\", colors100 ) # Run hill climb on 100. Include either \"swap\", \"inversion\" or \"scramble\"\n",
    "plot_colors(colors100, hc_100, 20) #plot the colour ordering\n",
    "hc_100_eval = evaluate(colors100, hc_100) # evaluate the solution\n",
    "print(f'^Evaluation of order hc 100: {hc_100_eval}')  # Displaying all decimals\n",
    "print(f' Evaluation of order hc 100: {np.round(hc_100_eval, 4)}')  # rounding to display only 4 decimals. This is better for display\n",
    "\n",
    "print('\\nGenerating multi hill climb 100 solution...')\n",
    "mhc_100 = multi_hill_climbing(3, 20000, \"inversion\", colors100) # Run multi hill climb on 100. Include either \"swap\", \"inversion\" or \"scramble\"\n",
    "plot_colors(colors100, mhc_100, 20)\n",
    "mhc_100_eval = evaluate(colors100, mhc_100)# evaluate the solution\n",
    "print(f'^Evaluation of order mhc 100: {mhc_100_eval}')  # Displaying all decimals\n",
    "print(f' Evaluation of order mhc 100: {np.round(mhc_100_eval, 4)}')  # rounding to display only 4 decimals. This is better for display\n",
    "print('\\nmhc_100:', mhc_100)\n",
    "\n",
    "mhc_best100 = [15, 82, 2, 8, 79, 75, 58, 10, 70, 5, 56, 53, 36, 20, 13, 7, 45, 30, 90, 87, 65, 84, 37, 28, 50, 78, 94, 22, 74, 49, 48, 23, 55, 39, 27, 71, 41, 11, 66, 19, 93, 81, 95, 42, 34, 1,\n",
    "               62, 88, 26, 38, 77, 16, 52, 47, 69, 86, 61, 4, 85, 21, 67, 29, 68, 76, 40, 14, 33, 12, 25, 91, 54, 31, 0, 24, 72, 18, 51, 35, 44, 46, 92, 32, 17, 83, 59, 57, 9, 43, 60, 80, 6, 63, 89, 3, 64, 73]\n",
    "                # 16.6013 eval, 3, 20000\n",
    "\n",
    "#######################################################################################################################\n",
    "\n",
    "order500 = list(range(ncolors500))  # list of consecutive numbers from 0 to ncolors\n",
    "print('\\nUnordered solution 500...')\n",
    "plot_colors(colors500, order500, 40)  # You will notice that colors are not ordered in the file\n",
    "unordered_500_eval = evaluate(colors500, order500)# evaluate the solution\n",
    "print(f'^Evaluation of unordered 500: {unordered_500_eval}')  # Displaying all decimals\n",
    "print(f' Evaluation of unordered 500: {np.round(unordered_500_eval, 4)}')  # rounding to display only 4 decimals. This is better for display\n",
    "\n",
    "print('\\nGenerating hill climb 500 solution...')\n",
    "hc_500, imp_trace500 = hill_climbing(100000, \"inversion\", colors500 ) # Include either \"swap\", \"inversion\" or \"scramble\"\n",
    "plot_colors(colors500, hc_500, 40)\n",
    "hc_500_eval = evaluate(colors500, hc_500)# evaluate the solution\n",
    "print(f'^Evaluation of order hc 500: {hc_500_eval}')  # Displaying all decimals\n",
    "print(f' Evaluation of order hc 500: {np.round(hc_500_eval, 4)}')  # rounding to display only 4 decimals. This is better for display\n",
    "\n",
    "print('\\nGenerating multi hill climb 500 solution...')\n",
    "mhc_500 = multi_hill_climbing(3, 100000, \"inversion\", colors500) # Include either \"swap\", \"inversion\" or \"scramble\"\n",
    "plot_colors(colors500, mhc_500, 40)\n",
    "mhc_500_eval= evaluate(colors500, mhc_500)# evaluate the solution\n",
    "print(f'^Evaluation of order mhc 500: {mhc_500_eval}')  # Displaying all decimals\n",
    "print(f' Evaluation of order mhc 500: {np.round(mhc_500_eval, 4)}')  # rounding to display only 4 decimals. This is better for display\n",
    "print('\\nmhc_500:', mhc_500)\n",
    "\n",
    "mhc_best500 = [35, 245, 410, 51, 141, 209, 46, 255, 444, 18, 363, 243, 98, 400, 470, 70, 177, 458, 277, 123, 40, 487, 96, 349, 119, 424, 415, 228, 238, 21, 340, 267, 256, 261, 375, 110, 352, 76, 307, 200, 284, 161, 419, 63, 362, 346, 215, 9, 313, 121,\n",
    "               133, 353, 75, 249, 139, 489, 418, 79, 164, 406, 426, 197, 370, 213, 306, 457, 58, 297, 433, 345, 231, 439, 334, 479, 336, 147, 206, 183, 264, 17, 392, 148, 102, 270, 208, 319, 365, 20, 53, 155, 36, 171, 25, 462, 258, 338, 343, 453, 220, \n",
    "               56, 430, 5, 357, 33, 12, 314, 291, 222, 91, 389, 416, 435, 376, 294, 24, 72, 248, 300, 95, 42, 170, 34, 298, 108, 11, 443, 482, 31, 0, 423, 54, 205, 473, 310, 99, 412, 397, 399, 154, 445, 350, 142, 265, 417, 26, 112, 182, 221, 229, 88, \n",
    "               143, 405, 202, 359, 303, 495, 311, 382, 461, 106, 330, 180, 74, 49, 372, 285, 463, 199, 355, 233, 438, 425, 144, 117, 402, 55, 23, 48, 22, 387, 381, 214, 269, 226, 385, 212, 309, 465, 472, 151, 232, 127, 101, 292, 134, 327, 230, 218, 266, \n",
    "               89, 179, 274, 380, 59, 324, 287, 477, 466, 253, 224, 347, 441, 315, 203, 64, 73, 452, 109, 407, 126, 3, 153, 468, 308, 246, 331, 136, 391, 326, 371, 168, 6, 403, 354, 60, 80, 486, 305, 422, 43, 114, 459, 383, 451, 28, 50, 191, 176, 366, 236,\n",
    "               369, 4, 86, 483, 186, 94, 163, 409, 241, 62, 293, 494, 181, 157, 27, 162, 299, 104, 446, 41, 71, 271, 450, 192, 204, 427, 333, 196, 490, 286, 103, 93, 115, 276, 480, 478, 384, 251, 19, 66, 81, 411, 257, 275, 137, 358, 44, 442, 172, 242, 8, \n",
    "               491, 2, 396, 469, 193, 323, 394, 356, 247, 82, 15, 318, 211, 454, 447, 320, 240, 207, 160, 295, 57, 244, 263, 210, 7, 393, 216, 316, 485, 13, 341, 456, 374, 83, 167, 351, 92, 32, 268, 460, 195, 332, 388, 156, 471, 239, 105, 217, 325, 329, 467, \n",
    "               190, 455, 440, 116, 278, 414, 484, 262, 159, 449, 165, 420, 428, 174, 322, 14, 348, 152, 68, 360, 124, 432, 476, 47, 38, 52, 201, 429, 317, 122, 421, 301, 321, 235, 189, 219, 16, 175, 77, 434, 173, 328, 237, 252, 254, 288, 290, 302, 138, 404,\n",
    "               344, 437, 1, 283, 131, 377, 113, 289, 312, 185, 474, 282, 368, 464, 187, 158, 10, 436,  234, 395, 69, 304, 431, 361, 379, 259, 335, 337, 29, 378, 188, 342, 67, 132, 129, 125, 194, 281, 272, 364, 45, 413, 97, 30, 386, 90, 118, 296, 279, 145, 37, \n",
    "               84, 390, 140, 149, 493, 178, 135, 85, 61, 373, 78, 339, 223, 475, 280, 184, 225, 150, 227, 492, 198, 146, 408, 87, 448, 120, 107, 130, 398, 488, 169, 65, 481, 367, 273, 128, 166, 250, 111, 401, 100, 260, 39]"
   ]
  },
  {
   "cell_type": "markdown",
   "metadata": {},
   "source": [
    "## Output"
   ]
  },
  {
   "cell_type": "markdown",
   "metadata": {},
   "source": [
    "### Plotting single run hill climb traces for 100 and 500 files"
   ]
  },
  {
   "cell_type": "code",
   "execution_count": 31,
   "metadata": {},
   "outputs": [
    {
     "data": {
      "image/png": "[encoded data removed]",
      "text/plain": [
       "<Figure size 432x288 with 1 Axes>"
      ]
     },
     "metadata": {
      "needs_background": "light"
     },
     "output_type": "display_data"
    },
    {
     "data": {
      "image/png": "[encoded data removed]",
      "text/plain": [
       "<Figure size 432x288 with 1 Axes>"
      ]
     },
     "metadata": {
      "needs_background": "light"
     },
     "output_type": "display_data"
    }
   ],
   "source": [
    "# plot the trace of one run of hillclimb for each file\n",
    "plt.figure()\n",
    "plt.suptitle('HC Improvement trace 100')\n",
    "plt.plot(imp_trace100)\n",
    "plt.ylabel(\"Evaluation Value\")\n",
    "plt.xlabel(\"Improvement No.\")\n",
    "plt.show()\n",
    "\n",
    "plt.figure()\n",
    "plt.suptitle('HC Improvement trace 500')\n",
    "plt.plot(imp_trace500)\n",
    "plt.ylabel(\"Evaluation Value\")\n",
    "plt.xlabel(\"Improvement No.\")\n",
    "plt.show()"
   ]
  },
  {
   "cell_type": "code",
   "execution_count": 32,
   "metadata": {},
   "outputs": [
    {
     "name": "stdout",
     "output_type": "stream",
     "text": [
      "Generating mutation method/iteration results  96  ...\n"
     ]
    },
    {
     "data": {
      "image/png": "[encoded data removed]",
      "text/plain": [
       "<Figure size 432x288 with 1 Axes>"
      ]
     },
     "metadata": {
      "needs_background": "light"
     },
     "output_type": "display_data"
    },
    {
     "data": {
      "image/png": "[encoded data removed]",
      "text/plain": [
       "<Figure size 720x432 with 1 Axes>"
      ]
     },
     "metadata": {
      "needs_background": "light"
     },
     "output_type": "display_data"
    },
    {
     "name": "stdout",
     "output_type": "stream",
     "text": [
      "^best swap 96: 22.134100469259685\n"
     ]
    },
    {
     "data": {
      "image/png": "[encoded data removed]",
      "text/plain": [
       "<Figure size 720x432 with 1 Axes>"
      ]
     },
     "metadata": {
      "needs_background": "light"
     },
     "output_type": "display_data"
    },
    {
     "name": "stdout",
     "output_type": "stream",
     "text": [
      "^best inversion 96: 16.4844986767521\n",
      "\n"
     ]
    },
    {
     "data": {
      "image/png": "[encoded data removed]",
      "text/plain": [
       "<Figure size 720x432 with 1 Axes>"
      ]
     },
     "metadata": {
      "needs_background": "light"
     },
     "output_type": "display_data"
    },
    {
     "name": "stdout",
     "output_type": "stream",
     "text": [
      "^best scramble solution 96: 34.37597196408388\n",
      "\n",
      "Generating mutation method/iteration results  496  ...\n"
     ]
    },
    {
     "data": {
      "image/png": "[encoded data removed]",
      "text/plain": [
       "<Figure size 432x288 with 1 Axes>"
      ]
     },
     "metadata": {
      "needs_background": "light"
     },
     "output_type": "display_data"
    },
    {
     "data": {
      "image/png": "[encoded data removed]",
      "text/plain": [
       "<Figure size 720x432 with 1 Axes>"
      ]
     },
     "metadata": {
      "needs_background": "light"
     },
     "output_type": "display_data"
    },
    {
     "name": "stdout",
     "output_type": "stream",
     "text": [
      "^best swap 496: 114.65438167443007\n"
     ]
    },
    {
     "data": {
      "image/png": "[encoded data removed]",
      "text/plain": [
       "<Figure size 720x432 with 1 Axes>"
      ]
     },
     "metadata": {
      "needs_background": "light"
     },
     "output_type": "display_data"
    },
    {
     "name": "stdout",
     "output_type": "stream",
     "text": [
      "^best inversion 496: 73.47303122222512\n",
      "\n"
     ]
    },
    {
     "data": {
      "image/png": "[encoded data removed]",
      "text/plain": [
       "<Figure size 720x432 with 1 Axes>"
      ]
     },
     "metadata": {
      "needs_background": "light"
     },
     "output_type": "display_data"
    },
    {
     "name": "stdout",
     "output_type": "stream",
     "text": [
      "^best scramble solution 496: 217.25843758785714\n",
      "\n"
     ]
    }
   ],
   "source": [
    "evaluate_best_method(colors100, ncolors100, 5000) # TAKES ABOUT AN HOUR TO RUN. run method to evaluate best method\n",
    "evaluate_best_method(colors500, ncolors500, 10000) # TAKES ABOUT AN 2 HOURS TO RUN. run method to evaluate best method"
   ]
  },
  {
   "cell_type": "markdown",
   "metadata": {},
   "source": [
    "#### Below, the x axis refers to the number of iterations for example if the increment was 5000... 1 is 5000, 2 is 10,000, 3 is 15,000 etc"
   ]
  },
  {
   "cell_type": "markdown",
   "metadata": {},
   "source": [
    "## Method and Iteration evaluation results\n",
    "\n",
    "The conclusion reached by calling the evaluate_best_method function below is that for 100 colour array, inversion evaluation is rather consistently better than the other two methods, Around 5 better than swap and 15-20 better than scramble, for 500 colours inversion is roughly 40 better than swap and 160 better than scramble.  Also the more itereations for hc the better as this allows more opportunity for improvement by trying more orderings. \n",
    "\n",
    "#### A rough example (read off graph to nearest whole number) of the evaluation results can be show in the table below using 500 colours, 10,000 to 60,000 iterations in 10,000 increments. \n",
    "\n",
    "| Iterations | Swap | Inversion | Scramble |\n",
    "| --- | --- | --- | --- |\n",
    "| 0 | 325 | 325 | 325 |\n",
    "| 10,000 | 157 | 126 | 257 |\n",
    "| 20,000 | 141 | 107 | 240 |\n",
    "| 30,000 | 137 | 92 | 231 |\n",
    "| 40,000 | 129 | 85 | 223 |\n",
    "| 50,000 | 118 | 79 | 220 |\n",
    "| 60,000 | 117 | 74 | 217 |\n",
    "\n",
    "As can be shown by the plot above, the more iterations the better the evaluation but as time goes on the improvement becomes less dramatic and begins to level out. \n",
    "\n",
    "Out of interest, if time was of no concern, we can see below what kind of results could be produced using 1 million hill climbing iterations. This takes a long  time so is not practical for real use. "
   ]
  },
  {
   "cell_type": "code",
   "execution_count": 33,
   "metadata": {},
   "outputs": [
    {
     "name": "stdout",
     "output_type": "stream",
     "text": [
      "\n",
      "Generating hill climb 500 solution 1 million iterations...\n"
     ]
    },
    {
     "data": {
      "image/png": "[encoded data removed]",
      "text/plain": [
       "<Figure size 720x432 with 1 Axes>"
      ]
     },
     "metadata": {
      "needs_background": "light"
     },
     "output_type": "display_data"
    },
    {
     "name": "stdout",
     "output_type": "stream",
     "text": [
      "\n",
      "hc_500: [366, 176, 191, 326, 373, 78, 50, 37, 451, 28, 369, 4, 61, 244, 186, 483, 417, 265, 142, 112, 26, 149, 493, 178, 135, 85, 259, 335, 386, 198, 223, 339, 279, 87, 492, 408, 146, 475, 280, 422, 60, 80, 354, 403, 6, 486, 43, 114, 383, 305, 168, 266, 109, 452, 136, 134, 230, 327, 318, 15, 82, 247, 193, 192, 204, 164, 240, 213, 306, 297, 457, 406, 79, 426, 197, 370, 8, 333, 196, 427, 447, 320, 454, 211, 356, 323, 394, 127, 232, 371, 236, 391, 292, 101, 207, 295, 57, 160, 263, 313, 9, 210, 45, 272, 364, 281, 413, 30, 184, 459, 225, 150, 227, 448, 120, 107, 367, 84, 390, 140, 145, 241, 409, 163, 309, 212, 385, 465, 157, 181, 494, 94, 226, 269, 381, 214, 271, 450, 27, 350, 293, 62, 461, 106, 162, 299, 11, 100, 401, 446, 41, 71, 104, 39, 111, 250, 166, 260, 151, 472, 387, 22, 402, 55, 23, 66, 93, 286, 103, 81, 411, 443, 95, 248, 482, 108, 298, 34, 397, 412, 310, 170, 237, 328, 173, 99, 288, 254, 290, 252, 302, 138, 399, 404, 344, 437, 1, 143, 405, 88, 131, 283, 221, 182, 415, 38, 424, 47, 124, 431, 361, 277, 379, 21, 238, 228, 340, 110, 375, 97, 261, 118, 90, 296, 229, 481, 65, 169, 273, 488, 130, 398, 202, 359, 311, 495, 303, 382, 330, 128, 74, 180, 49, 372, 285, 463, 48, 144, 425, 199, 233, 438, 355, 19, 384, 251, 478, 480, 115, 117, 396, 469, 2, 491, 276, 490, 172, 442, 44, 245, 51, 410, 35, 137, 275, 257, 300, 255, 46, 209, 141, 332, 358, 18, 72, 24, 294, 444, 376, 195, 460, 264, 435, 453, 343, 5, 430, 357, 56, 222, 416, 220, 258, 462, 25, 171, 36, 53, 155, 177, 458, 119, 187, 389, 91, 414, 278, 201, 434, 317, 429, 122, 421, 301, 235, 189, 219, 77, 16, 175, 377, 154, 445, 113, 289, 312, 42, 185, 395, 455, 464, 470, 345, 433, 190, 467, 105, 206, 242, 147, 156, 388, 471, 239, 217, 329, 325, 158, 10, 183, 70, 231, 334, 439, 456, 341, 161, 20, 319, 365, 208, 270, 338, 148, 102, 17, 268, 32, 92, 336, 479, 167, 351, 392, 83, 287, 374, 253, 466, 224, 347, 126, 477, 3, 468, 153, 308, 246, 331, 218, 73, 315, 203, 441, 64, 407, 89, 63, 324, 380, 274, 346, 362, 179, 419, 393, 7, 284, 200, 307, 14, 33, 12, 314, 291, 159, 484, 262, 349, 449, 165, 428, 420, 174, 322, 129, 132, 29, 125, 188, 378, 194, 352, 76, 348, 96, 476, 432, 52, 321, 67, 267, 256, 342, 337, 152, 68, 360, 487, 123, 40, 13, 316, 485, 216, 215, 59, 121, 133, 353, 58, 75, 249, 139, 436, 86, 69, 304, 116, 440, 400, 54, 473, 205, 423, 0, 363, 31, 98, 243, 282, 368, 474, 234, 489, 418]\n",
      "^Evaluation of order hc 500: 50.03832278711558\n",
      " Evaluation of order hc 500: 50.0383\n"
     ]
    }
   ],
   "source": [
    "print('\\nGenerating hill climb 500 solution 1 million iterations...')\n",
    "hc_mill500, m_trace = hill_climbing(1000000, \"inversion\", colors500) # run hill climb for 1 million iterations to demo very good solution\n",
    "plot_colors(colors500, hc_mill500, 40)\n",
    "print('\\nhc_500:', hc_mill500)\n",
    "hc_500_eval= evaluate(colors500, hc_mill500)# evaluate the solution\n",
    "print(f'^Evaluation of order hc 500: {hc_500_eval}')  # Displaying all decimals\n",
    "print(f' Evaluation of order hc 500: {np.round(hc_500_eval, 4)}')  # rounding to display only 4 decimals. This is better for display"
   ]
  },
  {
   "cell_type": "code",
   "execution_count": null,
   "metadata": {},
   "outputs": [],
   "source": []
  },
  {
   "cell_type": "code",
   "execution_count": null,
   "metadata": {},
   "outputs": [],
   "source": []
  }
 ],
 "metadata": {
  "colab": {
   "name": "courseWork_startup_kit.ipynb",
   "provenance": []
  },
  "kernelspec": {
   "display_name": "Python 3",
   "language": "python",
   "name": "python3"
  },
  "language_info": {
   "codemirror_mode": {
    "name": "ipython",
    "version": 3
   },
   "file_extension": ".py",
   "mimetype": "text/x-python",
   "name": "python",
   "nbconvert_exporter": "python",
   "pygments_lexer": "ipython3",
   "version": "3.8.3"
  }
 },
 "nbformat": 4,
 "nbformat_minor": 4
}
